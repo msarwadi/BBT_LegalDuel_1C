{
  "nbformat": 4,
  "nbformat_minor": 0,
  "metadata": {
    "colab": {
      "provenance": [],
      "include_colab_link": true
    },
    "kernelspec": {
      "name": "python3",
      "display_name": "Python 3"
    },
    "language_info": {
      "name": "python"
    }
  },
  "cells": [
    {
      "cell_type": "markdown",
      "metadata": {
        "id": "view-in-github",
        "colab_type": "text"
      },
      "source": [
        "<a href=\"https://colab.research.google.com/github/sachi-jh/BBT_LegalDuel_1C/blob/main/BTT_Legal_Duel1C_Sentiment_Analysis.ipynb\" target=\"_parent\"><img src=\"https://colab.research.google.com/assets/colab-badge.svg\" alt=\"Open In Colab\"/></a>"
      ]
    },
    {
      "cell_type": "code",
      "execution_count": null,
      "metadata": {
        "id": "4pj-r4bboewO"
      },
      "outputs": [],
      "source": []
    },
    {
      "cell_type": "code",
      "source": [
        "from google.colab import drive\n",
        "drive.mount('/content/drive')\n"
      ],
      "metadata": {
        "id": "ouBd_DVytUC3",
        "colab": {
          "base_uri": "https://localhost:8080/"
        },
        "outputId": "ae323d4a-093e-4d47-8f8e-9124757539e0"
      },
      "execution_count": null,
      "outputs": [
        {
          "output_type": "stream",
          "name": "stdout",
          "text": [
            "Drive already mounted at /content/drive; to attempt to forcibly remount, call drive.mount(\"/content/drive\", force_remount=True).\n"
          ]
        }
      ]
    },
    {
      "cell_type": "code",
      "source": [
        "import numpy as np\n",
        "import pandas as pd\n",
        "import os\n",
        "os.environ[\"TF_CPP_MIN_LOG_LEVEL\"] = \"2\" # suppress info and warning messages\n",
        "import matplotlib.pyplot as plt\n",
        "import seaborn as sns\n",
        "import tensorflow.keras as keras\n",
        "import nltk\n",
        "import spacy\n",
        "#import enchant it saying enchant isnt a module??\n",
        "from nltk.tokenize import sent_tokenize, word_tokenize\n",
        "from sklearn.feature_extraction.text import TfidfVectorizer\n",
        "import time\n",
        "from sklearn.model_selection import train_test_split\n",
        "from sklearn.preprocessing import LabelEncoder\n",
        "import tensorflow as tf\n",
        "from tensorflow import keras\n",
        "from tensorflow.keras import layers"
      ],
      "metadata": {
        "id": "y0_1MQmqxdKG"
      },
      "execution_count": null,
      "outputs": []
    },
    {
      "cell_type": "markdown",
      "source": [
        "## Exploratory Data Analysis\n",
        "The following data shows RecordID, Label, extractedComment, extractedResponse, filingData, Sentiment, SentimentScore, and the Website link to the filings.\n",
        "\n",
        "*Note: Label column is not the actual label of the model. The predictive label is Sentiment (Neutral, Accept, Reject). The feature is extractedResponse\n",
        "\n",
        "May predict the Label/Topic column in the future"
      ],
      "metadata": {
        "id": "pQzDnCaX68TB"
      }
    },
    {
      "cell_type": "code",
      "source": [
        "filename = os.path.join(os.getcwd(),  '/content/drive/MyDrive/AML/SentimentAnalysis.csv')\n",
        "df = pd.read_csv(filename, header = 0)"
      ],
      "metadata": {
        "id": "-KgRuoVr6fnr"
      },
      "execution_count": null,
      "outputs": []
    },
    {
      "cell_type": "code",
      "source": [
        "df.head(10)"
      ],
      "metadata": {
        "colab": {
          "base_uri": "https://localhost:8080/",
          "height": 537
        },
        "id": "_BAZJ39p76Ur",
        "outputId": "95068575-ace3-4294-94b2-65f1c5c80b44"
      },
      "execution_count": null,
      "outputs": [
        {
          "output_type": "execute_result",
          "data": {
            "text/plain": [
              "   RecordID                           Label  \\\n",
              "0     96362  Past performance and Benchmark   \n",
              "1     96364       High Yield and Junk Bonds   \n",
              "2     96364           Maturity and Duration   \n",
              "3    108491                         Website   \n",
              "4    108493           Market Capitalization   \n",
              "5    108493                         Website   \n",
              "6    108495                         Website   \n",
              "7     44795  Past performance and Benchmark   \n",
              "8     43115                  Code of Ethics   \n",
              "9     43115       High Yield and Junk Bonds   \n",
              "\n",
              "                                    extractedComment  \\\n",
              "0  Comment: The Advisors Inner Circle Fund - West...   \n",
              "1  Comment: The Advisors Inner Circle Fund - West...   \n",
              "2  Comment: The Advisors Inner Circle Fund - West...   \n",
              "3  Comment: The staff noted the prospectus for Th...   \n",
              "4  Comment: The staff noted the prospectus for Th...   \n",
              "5  Comment: The staff noted the prospectus for Th...   \n",
              "6  Comment: The staff noted the prospectus for Th...   \n",
              "7  Comment: For the average annual total return t...   \n",
              "8  Comment: For The Advisors Inner Circle Fund II...   \n",
              "9  Comment: For The Advisors Inner Circle Fund II...   \n",
              "\n",
              "                                   extractedResponse  filingDate Sentiment  \\\n",
              "0  Response 5 The Fund agrees, and going forward,...    20160427   Neutral   \n",
              "1  Response 6 When appropriate and subject to ava...    20160427    Accept   \n",
              "2  Response 6 When appropriate and subject to ava...    20160427    Accept   \n",
              "3  Response 3 The Funds agree, and going forward,...    20160427    Accept   \n",
              "4  Response 7 The Fund agrees, and going forward,...    20160427   Neutral   \n",
              "5  Response 7 The Fund agrees, and going forward,...    20160427   Neutral   \n",
              "6  Response 10 The Fund agrees, and going forward...    20160427   Neutral   \n",
              "7  Response 9 The Funds agree, and going forward,...    20160427   Neutral   \n",
              "8  Response 8 The Trusts agree, and in future N-C...    20160427   Neutral   \n",
              "9  Response 8 The Trusts agree, and in future N-C...    20160427   Neutral   \n",
              "\n",
              "   SentimentScore                                            Website  \n",
              "0               1  https:www.sec.gov/Archives/edgar/data/890540/0...  \n",
              "1               2  https:www.sec.gov/Archives/edgar/data/890540/0...  \n",
              "2               2  https:www.sec.gov/Archives/edgar/data/890540/0...  \n",
              "3               2  https:www.sec.gov/Archives/edgar/data/890540/0...  \n",
              "4               1  https:www.sec.gov/Archives/edgar/data/890540/0...  \n",
              "5               1  https:www.sec.gov/Archives/edgar/data/890540/0...  \n",
              "6               1  https:www.sec.gov/Archives/edgar/data/890540/0...  \n",
              "7               1  https:www.sec.gov/Archives/edgar/data/1593547/...  \n",
              "8               1  https:www.sec.gov/Archives/edgar/data/1593547/...  \n",
              "9               1  https:www.sec.gov/Archives/edgar/data/1593547/...  "
            ],
            "text/html": [
              "\n",
              "  <div id=\"df-bdbb8c51-7d2d-4255-9f96-ac8c8245b2a0\" class=\"colab-df-container\">\n",
              "    <div>\n",
              "<style scoped>\n",
              "    .dataframe tbody tr th:only-of-type {\n",
              "        vertical-align: middle;\n",
              "    }\n",
              "\n",
              "    .dataframe tbody tr th {\n",
              "        vertical-align: top;\n",
              "    }\n",
              "\n",
              "    .dataframe thead th {\n",
              "        text-align: right;\n",
              "    }\n",
              "</style>\n",
              "<table border=\"1\" class=\"dataframe\">\n",
              "  <thead>\n",
              "    <tr style=\"text-align: right;\">\n",
              "      <th></th>\n",
              "      <th>RecordID</th>\n",
              "      <th>Label</th>\n",
              "      <th>extractedComment</th>\n",
              "      <th>extractedResponse</th>\n",
              "      <th>filingDate</th>\n",
              "      <th>Sentiment</th>\n",
              "      <th>SentimentScore</th>\n",
              "      <th>Website</th>\n",
              "    </tr>\n",
              "  </thead>\n",
              "  <tbody>\n",
              "    <tr>\n",
              "      <th>0</th>\n",
              "      <td>96362</td>\n",
              "      <td>Past performance and Benchmark</td>\n",
              "      <td>Comment: The Advisors Inner Circle Fund - West...</td>\n",
              "      <td>Response 5 The Fund agrees, and going forward,...</td>\n",
              "      <td>20160427</td>\n",
              "      <td>Neutral</td>\n",
              "      <td>1</td>\n",
              "      <td>https:www.sec.gov/Archives/edgar/data/890540/0...</td>\n",
              "    </tr>\n",
              "    <tr>\n",
              "      <th>1</th>\n",
              "      <td>96364</td>\n",
              "      <td>High Yield and Junk Bonds</td>\n",
              "      <td>Comment: The Advisors Inner Circle Fund - West...</td>\n",
              "      <td>Response 6 When appropriate and subject to ava...</td>\n",
              "      <td>20160427</td>\n",
              "      <td>Accept</td>\n",
              "      <td>2</td>\n",
              "      <td>https:www.sec.gov/Archives/edgar/data/890540/0...</td>\n",
              "    </tr>\n",
              "    <tr>\n",
              "      <th>2</th>\n",
              "      <td>96364</td>\n",
              "      <td>Maturity and Duration</td>\n",
              "      <td>Comment: The Advisors Inner Circle Fund - West...</td>\n",
              "      <td>Response 6 When appropriate and subject to ava...</td>\n",
              "      <td>20160427</td>\n",
              "      <td>Accept</td>\n",
              "      <td>2</td>\n",
              "      <td>https:www.sec.gov/Archives/edgar/data/890540/0...</td>\n",
              "    </tr>\n",
              "    <tr>\n",
              "      <th>3</th>\n",
              "      <td>108491</td>\n",
              "      <td>Website</td>\n",
              "      <td>Comment: The staff noted the prospectus for Th...</td>\n",
              "      <td>Response 3 The Funds agree, and going forward,...</td>\n",
              "      <td>20160427</td>\n",
              "      <td>Accept</td>\n",
              "      <td>2</td>\n",
              "      <td>https:www.sec.gov/Archives/edgar/data/890540/0...</td>\n",
              "    </tr>\n",
              "    <tr>\n",
              "      <th>4</th>\n",
              "      <td>108493</td>\n",
              "      <td>Market Capitalization</td>\n",
              "      <td>Comment: The staff noted the prospectus for Th...</td>\n",
              "      <td>Response 7 The Fund agrees, and going forward,...</td>\n",
              "      <td>20160427</td>\n",
              "      <td>Neutral</td>\n",
              "      <td>1</td>\n",
              "      <td>https:www.sec.gov/Archives/edgar/data/890540/0...</td>\n",
              "    </tr>\n",
              "    <tr>\n",
              "      <th>5</th>\n",
              "      <td>108493</td>\n",
              "      <td>Website</td>\n",
              "      <td>Comment: The staff noted the prospectus for Th...</td>\n",
              "      <td>Response 7 The Fund agrees, and going forward,...</td>\n",
              "      <td>20160427</td>\n",
              "      <td>Neutral</td>\n",
              "      <td>1</td>\n",
              "      <td>https:www.sec.gov/Archives/edgar/data/890540/0...</td>\n",
              "    </tr>\n",
              "    <tr>\n",
              "      <th>6</th>\n",
              "      <td>108495</td>\n",
              "      <td>Website</td>\n",
              "      <td>Comment: The staff noted the prospectus for Th...</td>\n",
              "      <td>Response 10 The Fund agrees, and going forward...</td>\n",
              "      <td>20160427</td>\n",
              "      <td>Neutral</td>\n",
              "      <td>1</td>\n",
              "      <td>https:www.sec.gov/Archives/edgar/data/890540/0...</td>\n",
              "    </tr>\n",
              "    <tr>\n",
              "      <th>7</th>\n",
              "      <td>44795</td>\n",
              "      <td>Past performance and Benchmark</td>\n",
              "      <td>Comment: For the average annual total return t...</td>\n",
              "      <td>Response 9 The Funds agree, and going forward,...</td>\n",
              "      <td>20160427</td>\n",
              "      <td>Neutral</td>\n",
              "      <td>1</td>\n",
              "      <td>https:www.sec.gov/Archives/edgar/data/1593547/...</td>\n",
              "    </tr>\n",
              "    <tr>\n",
              "      <th>8</th>\n",
              "      <td>43115</td>\n",
              "      <td>Code of Ethics</td>\n",
              "      <td>Comment: For The Advisors Inner Circle Fund II...</td>\n",
              "      <td>Response 8 The Trusts agree, and in future N-C...</td>\n",
              "      <td>20160427</td>\n",
              "      <td>Neutral</td>\n",
              "      <td>1</td>\n",
              "      <td>https:www.sec.gov/Archives/edgar/data/1593547/...</td>\n",
              "    </tr>\n",
              "    <tr>\n",
              "      <th>9</th>\n",
              "      <td>43115</td>\n",
              "      <td>High Yield and Junk Bonds</td>\n",
              "      <td>Comment: For The Advisors Inner Circle Fund II...</td>\n",
              "      <td>Response 8 The Trusts agree, and in future N-C...</td>\n",
              "      <td>20160427</td>\n",
              "      <td>Neutral</td>\n",
              "      <td>1</td>\n",
              "      <td>https:www.sec.gov/Archives/edgar/data/1593547/...</td>\n",
              "    </tr>\n",
              "  </tbody>\n",
              "</table>\n",
              "</div>\n",
              "    <div class=\"colab-df-buttons\">\n",
              "\n",
              "  <div class=\"colab-df-container\">\n",
              "    <button class=\"colab-df-convert\" onclick=\"convertToInteractive('df-bdbb8c51-7d2d-4255-9f96-ac8c8245b2a0')\"\n",
              "            title=\"Convert this dataframe to an interactive table.\"\n",
              "            style=\"display:none;\">\n",
              "\n",
              "  <svg xmlns=\"http://www.w3.org/2000/svg\" height=\"24px\" viewBox=\"0 -960 960 960\">\n",
              "    <path d=\"M120-120v-720h720v720H120Zm60-500h600v-160H180v160Zm220 220h160v-160H400v160Zm0 220h160v-160H400v160ZM180-400h160v-160H180v160Zm440 0h160v-160H620v160ZM180-180h160v-160H180v160Zm440 0h160v-160H620v160Z\"/>\n",
              "  </svg>\n",
              "    </button>\n",
              "\n",
              "  <style>\n",
              "    .colab-df-container {\n",
              "      display:flex;\n",
              "      gap: 12px;\n",
              "    }\n",
              "\n",
              "    .colab-df-convert {\n",
              "      background-color: #E8F0FE;\n",
              "      border: none;\n",
              "      border-radius: 50%;\n",
              "      cursor: pointer;\n",
              "      display: none;\n",
              "      fill: #1967D2;\n",
              "      height: 32px;\n",
              "      padding: 0 0 0 0;\n",
              "      width: 32px;\n",
              "    }\n",
              "\n",
              "    .colab-df-convert:hover {\n",
              "      background-color: #E2EBFA;\n",
              "      box-shadow: 0px 1px 2px rgba(60, 64, 67, 0.3), 0px 1px 3px 1px rgba(60, 64, 67, 0.15);\n",
              "      fill: #174EA6;\n",
              "    }\n",
              "\n",
              "    .colab-df-buttons div {\n",
              "      margin-bottom: 4px;\n",
              "    }\n",
              "\n",
              "    [theme=dark] .colab-df-convert {\n",
              "      background-color: #3B4455;\n",
              "      fill: #D2E3FC;\n",
              "    }\n",
              "\n",
              "    [theme=dark] .colab-df-convert:hover {\n",
              "      background-color: #434B5C;\n",
              "      box-shadow: 0px 1px 3px 1px rgba(0, 0, 0, 0.15);\n",
              "      filter: drop-shadow(0px 1px 2px rgba(0, 0, 0, 0.3));\n",
              "      fill: #FFFFFF;\n",
              "    }\n",
              "  </style>\n",
              "\n",
              "    <script>\n",
              "      const buttonEl =\n",
              "        document.querySelector('#df-bdbb8c51-7d2d-4255-9f96-ac8c8245b2a0 button.colab-df-convert');\n",
              "      buttonEl.style.display =\n",
              "        google.colab.kernel.accessAllowed ? 'block' : 'none';\n",
              "\n",
              "      async function convertToInteractive(key) {\n",
              "        const element = document.querySelector('#df-bdbb8c51-7d2d-4255-9f96-ac8c8245b2a0');\n",
              "        const dataTable =\n",
              "          await google.colab.kernel.invokeFunction('convertToInteractive',\n",
              "                                                    [key], {});\n",
              "        if (!dataTable) return;\n",
              "\n",
              "        const docLinkHtml = 'Like what you see? Visit the ' +\n",
              "          '<a target=\"_blank\" href=https://colab.research.google.com/notebooks/data_table.ipynb>data table notebook</a>'\n",
              "          + ' to learn more about interactive tables.';\n",
              "        element.innerHTML = '';\n",
              "        dataTable['output_type'] = 'display_data';\n",
              "        await google.colab.output.renderOutput(dataTable, element);\n",
              "        const docLink = document.createElement('div');\n",
              "        docLink.innerHTML = docLinkHtml;\n",
              "        element.appendChild(docLink);\n",
              "      }\n",
              "    </script>\n",
              "  </div>\n",
              "\n",
              "\n",
              "<div id=\"df-4f9792bf-b3d0-485d-abc4-292db0678919\">\n",
              "  <button class=\"colab-df-quickchart\" onclick=\"quickchart('df-4f9792bf-b3d0-485d-abc4-292db0678919')\"\n",
              "            title=\"Suggest charts\"\n",
              "            style=\"display:none;\">\n",
              "\n",
              "<svg xmlns=\"http://www.w3.org/2000/svg\" height=\"24px\"viewBox=\"0 0 24 24\"\n",
              "     width=\"24px\">\n",
              "    <g>\n",
              "        <path d=\"M19 3H5c-1.1 0-2 .9-2 2v14c0 1.1.9 2 2 2h14c1.1 0 2-.9 2-2V5c0-1.1-.9-2-2-2zM9 17H7v-7h2v7zm4 0h-2V7h2v10zm4 0h-2v-4h2v4z\"/>\n",
              "    </g>\n",
              "</svg>\n",
              "  </button>\n",
              "\n",
              "<style>\n",
              "  .colab-df-quickchart {\n",
              "      --bg-color: #E8F0FE;\n",
              "      --fill-color: #1967D2;\n",
              "      --hover-bg-color: #E2EBFA;\n",
              "      --hover-fill-color: #174EA6;\n",
              "      --disabled-fill-color: #AAA;\n",
              "      --disabled-bg-color: #DDD;\n",
              "  }\n",
              "\n",
              "  [theme=dark] .colab-df-quickchart {\n",
              "      --bg-color: #3B4455;\n",
              "      --fill-color: #D2E3FC;\n",
              "      --hover-bg-color: #434B5C;\n",
              "      --hover-fill-color: #FFFFFF;\n",
              "      --disabled-bg-color: #3B4455;\n",
              "      --disabled-fill-color: #666;\n",
              "  }\n",
              "\n",
              "  .colab-df-quickchart {\n",
              "    background-color: var(--bg-color);\n",
              "    border: none;\n",
              "    border-radius: 50%;\n",
              "    cursor: pointer;\n",
              "    display: none;\n",
              "    fill: var(--fill-color);\n",
              "    height: 32px;\n",
              "    padding: 0;\n",
              "    width: 32px;\n",
              "  }\n",
              "\n",
              "  .colab-df-quickchart:hover {\n",
              "    background-color: var(--hover-bg-color);\n",
              "    box-shadow: 0 1px 2px rgba(60, 64, 67, 0.3), 0 1px 3px 1px rgba(60, 64, 67, 0.15);\n",
              "    fill: var(--button-hover-fill-color);\n",
              "  }\n",
              "\n",
              "  .colab-df-quickchart-complete:disabled,\n",
              "  .colab-df-quickchart-complete:disabled:hover {\n",
              "    background-color: var(--disabled-bg-color);\n",
              "    fill: var(--disabled-fill-color);\n",
              "    box-shadow: none;\n",
              "  }\n",
              "\n",
              "  .colab-df-spinner {\n",
              "    border: 2px solid var(--fill-color);\n",
              "    border-color: transparent;\n",
              "    border-bottom-color: var(--fill-color);\n",
              "    animation:\n",
              "      spin 1s steps(1) infinite;\n",
              "  }\n",
              "\n",
              "  @keyframes spin {\n",
              "    0% {\n",
              "      border-color: transparent;\n",
              "      border-bottom-color: var(--fill-color);\n",
              "      border-left-color: var(--fill-color);\n",
              "    }\n",
              "    20% {\n",
              "      border-color: transparent;\n",
              "      border-left-color: var(--fill-color);\n",
              "      border-top-color: var(--fill-color);\n",
              "    }\n",
              "    30% {\n",
              "      border-color: transparent;\n",
              "      border-left-color: var(--fill-color);\n",
              "      border-top-color: var(--fill-color);\n",
              "      border-right-color: var(--fill-color);\n",
              "    }\n",
              "    40% {\n",
              "      border-color: transparent;\n",
              "      border-right-color: var(--fill-color);\n",
              "      border-top-color: var(--fill-color);\n",
              "    }\n",
              "    60% {\n",
              "      border-color: transparent;\n",
              "      border-right-color: var(--fill-color);\n",
              "    }\n",
              "    80% {\n",
              "      border-color: transparent;\n",
              "      border-right-color: var(--fill-color);\n",
              "      border-bottom-color: var(--fill-color);\n",
              "    }\n",
              "    90% {\n",
              "      border-color: transparent;\n",
              "      border-bottom-color: var(--fill-color);\n",
              "    }\n",
              "  }\n",
              "</style>\n",
              "\n",
              "  <script>\n",
              "    async function quickchart(key) {\n",
              "      const quickchartButtonEl =\n",
              "        document.querySelector('#' + key + ' button');\n",
              "      quickchartButtonEl.disabled = true;  // To prevent multiple clicks.\n",
              "      quickchartButtonEl.classList.add('colab-df-spinner');\n",
              "      try {\n",
              "        const charts = await google.colab.kernel.invokeFunction(\n",
              "            'suggestCharts', [key], {});\n",
              "      } catch (error) {\n",
              "        console.error('Error during call to suggestCharts:', error);\n",
              "      }\n",
              "      quickchartButtonEl.classList.remove('colab-df-spinner');\n",
              "      quickchartButtonEl.classList.add('colab-df-quickchart-complete');\n",
              "    }\n",
              "    (() => {\n",
              "      let quickchartButtonEl =\n",
              "        document.querySelector('#df-4f9792bf-b3d0-485d-abc4-292db0678919 button');\n",
              "      quickchartButtonEl.style.display =\n",
              "        google.colab.kernel.accessAllowed ? 'block' : 'none';\n",
              "    })();\n",
              "  </script>\n",
              "</div>\n",
              "\n",
              "    </div>\n",
              "  </div>\n"
            ],
            "application/vnd.google.colaboratory.intrinsic+json": {
              "type": "dataframe",
              "variable_name": "df",
              "summary": "{\n  \"name\": \"df\",\n  \"rows\": 10000,\n  \"fields\": [\n    {\n      \"column\": \"RecordID\",\n      \"properties\": {\n        \"dtype\": \"number\",\n        \"std\": 194144,\n        \"min\": 110,\n        \"max\": 572649,\n        \"num_unique_values\": 6438,\n        \"samples\": [\n          114318,\n          563005,\n          13620\n        ],\n        \"semantic_type\": \"\",\n        \"description\": \"\"\n      }\n    },\n    {\n      \"column\": \"Label\",\n      \"properties\": {\n        \"dtype\": \"category\",\n        \"num_unique_values\": 216,\n        \"samples\": [\n          \"Cash Holdings\",\n          \"Wire Instructions\",\n          \"Interfund Lending\"\n        ],\n        \"semantic_type\": \"\",\n        \"description\": \"\"\n      }\n    },\n    {\n      \"column\": \"extractedComment\",\n      \"properties\": {\n        \"dtype\": \"category\",\n        \"num_unique_values\": 4517,\n        \"samples\": [\n          \"Comment:Please remove or move the last two sentences from the summary prospectus tothestatutory prospectus.\",\n          \"Comment:In regards to the sentence referenced in the above Comment #51, please disclosewho is responsible for such management selection.\",\n          \"Comment: Please add the following language to the footnote regarding the expense reimbursement: stated current limitation or limitation in effect at the time of the reimbursement.\"\n        ],\n        \"semantic_type\": \"\",\n        \"description\": \"\"\n      }\n    },\n    {\n      \"column\": \"extractedResponse\",\n      \"properties\": {\n        \"dtype\": \"category\",\n        \"num_unique_values\": 4454,\n        \"samples\": [\n          \"Response: In response to the Staffscomment, the Company respectfully submits that it does not state that a discussion regarding the basis for the approval of an investmentadvisory agreement is available in a shareholder report because the Company includes the complete discussion regarding the basisfor the boards approval of the investment advisory agreement within this section of the Registration Statement. This discussionis the same discussion as provided in the Companys annual report on Form 10-K. As a result, the cross-reference is not required.   June 30, 2016Page 7 Exhibits\",\n          \"Response:The Trust will make the adjustment to future shareholder reports.6.\",\n          \"Response:The Trust has revised the heading to read Portfolio Manager.56.\"\n        ],\n        \"semantic_type\": \"\",\n        \"description\": \"\"\n      }\n    },\n    {\n      \"column\": \"filingDate\",\n      \"properties\": {\n        \"dtype\": \"number\",\n        \"std\": 104,\n        \"min\": 20160427,\n        \"max\": 20160805,\n        \"num_unique_values\": 70,\n        \"samples\": [\n          20160527,\n          20160427,\n          20160708\n        ],\n        \"semantic_type\": \"\",\n        \"description\": \"\"\n      }\n    },\n    {\n      \"column\": \"Sentiment\",\n      \"properties\": {\n        \"dtype\": \"category\",\n        \"num_unique_values\": 3,\n        \"samples\": [\n          \"Neutral\",\n          \"Accept\",\n          \"Reject\"\n        ],\n        \"semantic_type\": \"\",\n        \"description\": \"\"\n      }\n    },\n    {\n      \"column\": \"SentimentScore\",\n      \"properties\": {\n        \"dtype\": \"number\",\n        \"std\": 0,\n        \"min\": 0,\n        \"max\": 2,\n        \"num_unique_values\": 3,\n        \"samples\": [\n          1,\n          2,\n          0\n        ],\n        \"semantic_type\": \"\",\n        \"description\": \"\"\n      }\n    },\n    {\n      \"column\": \"Website\",\n      \"properties\": {\n        \"dtype\": \"category\",\n        \"num_unique_values\": 441,\n        \"samples\": [\n          \"https:www.sec.gov/Archives/edgar/data/1399793/000114420416099152/filename1.htm\",\n          \"https:www.sec.gov/Archives/edgar/data/717819/000006759016002363/filename1.htm\",\n          \"https:www.sec.gov/Archives/edgar/data/705318/000153442416000766/filename1.htm\"\n        ],\n        \"semantic_type\": \"\",\n        \"description\": \"\"\n      }\n    }\n  ]\n}"
            }
          },
          "metadata": {},
          "execution_count": 4
        }
      ]
    },
    {
      "cell_type": "code",
      "source": [
        "print(df.columns)"
      ],
      "metadata": {
        "colab": {
          "base_uri": "https://localhost:8080/"
        },
        "id": "md5LLhR7ArP5",
        "outputId": "7497f903-168d-4a4f-afe9-9f853940153a"
      },
      "execution_count": null,
      "outputs": [
        {
          "output_type": "stream",
          "name": "stdout",
          "text": [
            "Index(['RecordID', 'Label', 'extractedComment', 'extractedResponse',\n",
            "       'filingDate', 'Sentiment', 'SentimentScore', 'Website'],\n",
            "      dtype='object')\n"
          ]
        }
      ]
    },
    {
      "cell_type": "code",
      "source": [
        "df.shape"
      ],
      "metadata": {
        "colab": {
          "base_uri": "https://localhost:8080/"
        },
        "id": "_KVG69f97ynB",
        "outputId": "ee65789f-25db-44ae-9a25-a88ee56add81"
      },
      "execution_count": null,
      "outputs": [
        {
          "output_type": "execute_result",
          "data": {
            "text/plain": [
              "(10000, 8)"
            ]
          },
          "metadata": {},
          "execution_count": 6
        }
      ]
    },
    {
      "source": [
        "# @title Sentiment\n",
        "\n",
        "from matplotlib import pyplot as plt\n",
        "import seaborn as sns\n",
        "df.groupby('Sentiment').size().plot(kind='barh', color=sns.palettes.mpl_palette('Dark2'))\n",
        "plt.gca().spines[['top', 'right',]].set_visible(False)"
      ],
      "cell_type": "code",
      "execution_count": null,
      "outputs": [
        {
          "output_type": "display_data",
          "data": {
            "text/plain": [
              "<Figure size 640x480 with 1 Axes>"
            ],
            "image/png": "[encoded data removed]"
          },
          "metadata": {}
        }
      ],
      "metadata": {
        "id": "ssd97Mp5A2Q_",
        "outputId": "15af9615-cc7c-4448-f5d7-78227666cc4b",
        "colab": {
          "base_uri": "https://localhost:8080/",
          "height": 430
        }
      }
    },
    {
      "cell_type": "code",
      "source": [
        "df.isnull().values.any()"
      ],
      "metadata": {
        "colab": {
          "base_uri": "https://localhost:8080/"
        },
        "id": "PbR4-LBV8ou2",
        "outputId": "88ade713-ec4e-4aff-a58c-15eb02ec8b2b"
      },
      "execution_count": null,
      "outputs": [
        {
          "output_type": "execute_result",
          "data": {
            "text/plain": [
              "True"
            ]
          },
          "metadata": {},
          "execution_count": 7
        }
      ]
    },
    {
      "cell_type": "code",
      "source": [
        "nan_count = np.sum(df.isnull(), axis = 0)\n",
        "nan_count"
      ],
      "metadata": {
        "colab": {
          "base_uri": "https://localhost:8080/",
          "height": 335
        },
        "id": "x534LlBhkeMH",
        "outputId": "0fe40898-156e-4029-bd3a-18272e2cd0d1"
      },
      "execution_count": null,
      "outputs": [
        {
          "output_type": "execute_result",
          "data": {
            "text/plain": [
              "RecordID               0\n",
              "Label                  0\n",
              "extractedComment       0\n",
              "extractedResponse    275\n",
              "filingDate             0\n",
              "Sentiment              0\n",
              "SentimentScore         0\n",
              "Website                0\n",
              "dtype: int64"
            ],
            "text/html": [
              "<div>\n",
              "<style scoped>\n",
              "    .dataframe tbody tr th:only-of-type {\n",
              "        vertical-align: middle;\n",
              "    }\n",
              "\n",
              "    .dataframe tbody tr th {\n",
              "        vertical-align: top;\n",
              "    }\n",
              "\n",
              "    .dataframe thead th {\n",
              "        text-align: right;\n",
              "    }\n",
              "</style>\n",
              "<table border=\"1\" class=\"dataframe\">\n",
              "  <thead>\n",
              "    <tr style=\"text-align: right;\">\n",
              "      <th></th>\n",
              "      <th>0</th>\n",
              "    </tr>\n",
              "  </thead>\n",
              "  <tbody>\n",
              "    <tr>\n",
              "      <th>RecordID</th>\n",
              "      <td>0</td>\n",
              "    </tr>\n",
              "    <tr>\n",
              "      <th>Label</th>\n",
              "      <td>0</td>\n",
              "    </tr>\n",
              "    <tr>\n",
              "      <th>extractedComment</th>\n",
              "      <td>0</td>\n",
              "    </tr>\n",
              "    <tr>\n",
              "      <th>extractedResponse</th>\n",
              "      <td>275</td>\n",
              "    </tr>\n",
              "    <tr>\n",
              "      <th>filingDate</th>\n",
              "      <td>0</td>\n",
              "    </tr>\n",
              "    <tr>\n",
              "      <th>Sentiment</th>\n",
              "      <td>0</td>\n",
              "    </tr>\n",
              "    <tr>\n",
              "      <th>SentimentScore</th>\n",
              "      <td>0</td>\n",
              "    </tr>\n",
              "    <tr>\n",
              "      <th>Website</th>\n",
              "      <td>0</td>\n",
              "    </tr>\n",
              "  </tbody>\n",
              "</table>\n",
              "</div><br><label><b>dtype:</b> int64</label>"
            ]
          },
          "metadata": {},
          "execution_count": 8
        }
      ]
    },
    {
      "cell_type": "markdown",
      "source": [
        "The next steps would be to remove the rows with null values."
      ],
      "metadata": {
        "id": "pcuNQx0XlGVP"
      }
    },
    {
      "cell_type": "code",
      "source": [
        "df = df.dropna(subset=['extractedResponse'])\n",
        "nan_count = np.sum(df.isnull(), axis = 0)\n",
        "nan_count"
      ],
      "metadata": {
        "colab": {
          "base_uri": "https://localhost:8080/",
          "height": 335
        },
        "id": "AZFVyIQf9uVQ",
        "outputId": "86fcd4d0-8888-4aab-bdbb-f542c2f7682c"
      },
      "execution_count": null,
      "outputs": [
        {
          "output_type": "execute_result",
          "data": {
            "text/plain": [
              "RecordID             0\n",
              "Label                0\n",
              "extractedComment     0\n",
              "extractedResponse    0\n",
              "filingDate           0\n",
              "Sentiment            0\n",
              "SentimentScore       0\n",
              "Website              0\n",
              "dtype: int64"
            ],
            "text/html": [
              "<div>\n",
              "<style scoped>\n",
              "    .dataframe tbody tr th:only-of-type {\n",
              "        vertical-align: middle;\n",
              "    }\n",
              "\n",
              "    .dataframe tbody tr th {\n",
              "        vertical-align: top;\n",
              "    }\n",
              "\n",
              "    .dataframe thead th {\n",
              "        text-align: right;\n",
              "    }\n",
              "</style>\n",
              "<table border=\"1\" class=\"dataframe\">\n",
              "  <thead>\n",
              "    <tr style=\"text-align: right;\">\n",
              "      <th></th>\n",
              "      <th>0</th>\n",
              "    </tr>\n",
              "  </thead>\n",
              "  <tbody>\n",
              "    <tr>\n",
              "      <th>RecordID</th>\n",
              "      <td>0</td>\n",
              "    </tr>\n",
              "    <tr>\n",
              "      <th>Label</th>\n",
              "      <td>0</td>\n",
              "    </tr>\n",
              "    <tr>\n",
              "      <th>extractedComment</th>\n",
              "      <td>0</td>\n",
              "    </tr>\n",
              "    <tr>\n",
              "      <th>extractedResponse</th>\n",
              "      <td>0</td>\n",
              "    </tr>\n",
              "    <tr>\n",
              "      <th>filingDate</th>\n",
              "      <td>0</td>\n",
              "    </tr>\n",
              "    <tr>\n",
              "      <th>Sentiment</th>\n",
              "      <td>0</td>\n",
              "    </tr>\n",
              "    <tr>\n",
              "      <th>SentimentScore</th>\n",
              "      <td>0</td>\n",
              "    </tr>\n",
              "    <tr>\n",
              "      <th>Website</th>\n",
              "      <td>0</td>\n",
              "    </tr>\n",
              "  </tbody>\n",
              "</table>\n",
              "</div><br><label><b>dtype:</b> int64</label>"
            ]
          },
          "metadata": {},
          "execution_count": 9
        }
      ]
    },
    {
      "cell_type": "code",
      "source": [
        "df = df.drop('Website', axis=1)\n",
        "df = df.dropna(how='any',axis=0)\n",
        "print(df.columns)"
      ],
      "metadata": {
        "id": "yuamYnAyjtth",
        "colab": {
          "base_uri": "https://localhost:8080/"
        },
        "outputId": "e7e2ed4c-a166-4035-a813-ca0c36659396"
      },
      "execution_count": null,
      "outputs": [
        {
          "output_type": "stream",
          "name": "stdout",
          "text": [
            "Index(['RecordID', 'Label', 'extractedComment', 'extractedResponse',\n",
            "       'filingDate', 'Sentiment', 'SentimentScore'],\n",
            "      dtype='object')\n"
          ]
        }
      ]
    },
    {
      "cell_type": "markdown",
      "source": [
        "It probably also makes sense to remove the website column since I don't think it will necessarily be predictive."
      ],
      "metadata": {
        "id": "ZN_-pREhnC7C"
      }
    },
    {
      "cell_type": "code",
      "source": [
        "#df.columns = [x.lower() for x in data.columns] could potentially normalize the caps if we want\n",
        "\n",
        "# potential way to remove the rows with strange strings?\n",
        "\n",
        "#def is_english(text):\n",
        "    #words_in_text = text.split()\n",
        "   # return all(word.lower() in english_words for word in words_in_text)\n",
        "\n",
        "#df_filtered = df[df.apply(is_english, axis=1)]\n"
      ],
      "metadata": {
        "id": "reeNCxmXk82a"
      },
      "execution_count": null,
      "outputs": []
    },
    {
      "cell_type": "markdown",
      "source": [
        "AAnonymous has rows with unidentifiable language - Exact number TBD. Cleans up and removes those rows with gibberish wordings."
      ],
      "metadata": {
        "id": "fV4wecKf9T-V"
      }
    },
    {
      "cell_type": "code",
      "source": [
        "import re\n",
        "def is_gibberish(text):\n",
        "    return bool(re.search(r'[^a-zA-Z\\s]', text))\n",
        "df_cleaned = df[~df['extractedResponse'].apply(is_gibberish)]\n",
        "print(df_cleaned.head())"
      ],
      "metadata": {
        "colab": {
          "base_uri": "https://localhost:8080/"
        },
        "id": "mU5FaSXx9P9p",
        "outputId": "724efe8a-574e-447c-cd88-78f20906355b"
      },
      "execution_count": null,
      "outputs": [
        {
          "output_type": "stream",
          "name": "stdout",
          "text": [
            "      RecordID                 Label  \\\n",
            "4701     15975            Borrowings   \n",
            "4702     15975     Expense Liability   \n",
            "4703     15975         Inconsistency   \n",
            "4713     16054  Completed fee tables   \n",
            "4714     16054     Expense Liability   \n",
            "\n",
            "                                       extractedComment extractedResponse  \\\n",
            "4701  Comment:  FUND SUMMARY  FEES AND EXPENSESOF TH...        RESPONSETO   \n",
            "4702  Comment:  FUND SUMMARY  FEES AND EXPENSESOF TH...        RESPONSETO   \n",
            "4703  Comment:  FUND SUMMARY  FEES AND EXPENSESOF TH...        RESPONSETO   \n",
            "4713  Comment:  FUND SUMMARY  PRINCIPAL INVESTMENTST...        RESPONSETO   \n",
            "4714  Comment:  FUND SUMMARY  PRINCIPAL INVESTMENTST...        RESPONSETO   \n",
            "\n",
            "      filingDate Sentiment  SentimentScore  \n",
            "4701    20160620   Neutral               1  \n",
            "4702    20160620   Neutral               1  \n",
            "4703    20160620   Neutral               1  \n",
            "4713    20160620   Neutral               1  \n",
            "4714    20160620   Neutral               1  \n"
          ]
        }
      ]
    },
    {
      "cell_type": "markdown",
      "source": [
        "## Training Data Preparation"
      ],
      "metadata": {
        "id": "8yL9yBfAlJw-"
      }
    },
    {
      "cell_type": "code",
      "source": [
        "X = df[\"extractedResponse\"]\n",
        "y = df[\"Sentiment\"]\n",
        "\n",
        "X_train, X_test, y_train, y_test = train_test_split(X, y, test_size = 0.25, random_state = 1234)"
      ],
      "metadata": {
        "id": "yTkE8AWq61XG"
      },
      "execution_count": null,
      "outputs": []
    },
    {
      "cell_type": "code",
      "source": [
        "tfidf_vectorizer = TfidfVectorizer()\n",
        "tfidf_vectorizer.fit(X_train)\n",
        "X_train_tfidf = tfidf_vectorizer.transform(X_train)\n",
        "X_test_tfidf = tfidf_vectorizer.transform(X_test)\n",
        "vocabulary_size = len(tfidf_vectorizer.vocabulary_)\n",
        "print(vocabulary_size)"
      ],
      "metadata": {
        "colab": {
          "base_uri": "https://localhost:8080/"
        },
        "id": "mNR31UBF7UHD",
        "outputId": "352ec959-08b4-44fe-af04-b0804a84df1a"
      },
      "execution_count": null,
      "outputs": [
        {
          "output_type": "stream",
          "name": "stdout",
          "text": [
            "26865\n"
          ]
        }
      ]
    },
    {
      "cell_type": "code",
      "source": [],
      "metadata": {
        "id": "SjpH8m_xuO5L"
      },
      "execution_count": null,
      "outputs": []
    },
    {
      "cell_type": "code",
      "source": [
        "nn_model = keras.Sequential()\n",
        "\n",
        "input_layer = keras.layers.InputLayer(input_shape=(vocabulary_size,))\n",
        "nn_model.add(input_layer)\n",
        "\n",
        "\n",
        "hidden_layer_1 = keras.layers.Dense(units = 64, activation='relu')\n",
        "nn_model.add(hidden_layer_1)\n",
        "\n",
        "hidden_layer_2 = keras.layers.Dense(units = 32, activation='relu')\n",
        "nn_model.add(hidden_layer_2)\n",
        "\n",
        "hidden_layer_3 = keras.layers.Dense(units = 16, activation='relu')\n",
        "nn_model.add(hidden_layer_3)\n",
        "\n",
        "output_layer = keras.layers.Dense(units = 1, activation = 'sigmoid')\n",
        "nn_model.add(output_layer)\n",
        "\n",
        "nn_model.summary()"
      ],
      "metadata": {
        "id": "LlK2ov7Qecsb",
        "colab": {
          "base_uri": "https://localhost:8080/"
        },
        "outputId": "b7248f45-1cb0-4767-fc97-7b214107ef48"
      },
      "execution_count": null,
      "outputs": [
        {
          "output_type": "stream",
          "name": "stderr",
          "text": [
            "/usr/local/lib/python3.10/dist-packages/keras/src/layers/core/dense.py:87: UserWarning: Do not pass an `input_shape`/`input_dim` argument to a layer. When using Sequential models, prefer using an `Input(shape)` object as the first layer in the model instead.\n",
            "  super().__init__(activity_regularizer=activity_regularizer, **kwargs)\n"
          ]
        }
      ]
    },
    {
      "cell_type": "code",
      "source": [
        "sgd_optimizer = keras.optimizers.SGD(learning_rate = 0.1)"
      ],
      "metadata": {
        "id": "bUId_oHxlhaG"
      },
      "execution_count": null,
      "outputs": []
    },
    {
      "cell_type": "code",
      "source": [
        "loss_fn = keras.losses.BinaryCrossentropy(from_logits = False)"
      ],
      "metadata": {
        "id": "CupcilJJlrhS"
      },
      "execution_count": null,
      "outputs": []
    },
    {
      "cell_type": "code",
      "source": [
        "nn_model.compile(optimizer=sgd_optimizer, loss=loss_fn, metrics=['accuracy'])"
      ],
      "metadata": {
        "id": "uFce0DHolulW"
      },
      "execution_count": null,
      "outputs": []
    },
    {
      "cell_type": "markdown",
      "source": [],
      "metadata": {
        "id": "i3qkhBSl72D9"
      }
    },
    {
      "cell_type": "code",
      "source": [
        "class ProgBarLoggerNEpochs(keras.callbacks.Callback):\n",
        "  def __init__(self, num_epochs: int, every_n: int = 50):\n",
        "    self.num_epochs = num_epochs\n",
        "    self.every_n = every_n\n",
        "  def on_epoch_end(self, epoch, logs=None):\n",
        "    if (epoch + 1) % self.every_n == 0:\n",
        "      s = 'Epoch [{}/ {}]'.format(epoch + 1, self.num_epochs)\n",
        "      logs_s = ['{}: {:.4f}'.format(k.capitalize(), v)\n",
        "                for k, v in logs.items()]\n",
        "      s_list = [s] + logs_s\n",
        "      print(', '.join(s_list))"
      ],
      "metadata": {
        "id": "9QbkkrEV5Hs8"
      },
      "execution_count": null,
      "outputs": []
    },
    {
      "cell_type": "code",
      "source": [
        "label_encoder = LabelEncoder()\n",
        "y_train_encoded = label_encoder.fit_transform(y_train)\n",
        "y_train = keras.utils.to_categorical(y_train, num_classes=3)"
      ],
      "metadata": {
        "id": "_MJQed5pCSXJ"
      },
      "execution_count": null,
      "outputs": []
    },
    {
      "cell_type": "code",
      "source": [],
      "metadata": {
        "id": "c7Ny6yY5t8VD"
      },
      "execution_count": null,
      "outputs": []
    },
    {
      "cell_type": "code",
      "source": [
        "t0 = time.time()\n",
        "num_epochs = 50\n",
        "\n",
        "history = nn_model.fit(\n",
        "  X_train_tfidf.toarray().astype(np.float32) ,\n",
        "  y_train_encoded,\n",
        "  epochs=num_epochs,\n",
        "  validation_split=0.2,\n",
        "  verbose=0,\n",
        "  callbacks=[ProgBarLoggerNEpochs(num_epochs, every_n=5)],\n",
        ")\n",
        "t1 = time.time() # stop time\n",
        "print('Elapsed time: %.2fs' % (t1-t0))"
      ],
      "metadata": {
        "id": "7p_r7R6UnBxR",
        "colab": {
          "base_uri": "https://localhost:8080/"
        },
        "outputId": "fc0de8bd-fafd-47d5-cc7d-338f874d89f3"
      },
      "execution_count": null,
      "outputs": [
        {
          "output_type": "stream",
          "name": "stdout",
          "text": [
            "Epoch [5/ 50], Accuracy: 0.5351, Loss: 128.6866, Val_accuracy: 0.5497, Val_loss: 121.0662\n",
            "Epoch [10/ 50], Accuracy: 0.5351, Loss: 96.0184, Val_accuracy: 0.5497, Val_loss: 89.5276\n",
            "Epoch [15/ 50], Accuracy: 0.5351, Loss: 63.3175, Val_accuracy: 0.5497, Val_loss: 57.9653\n",
            "Epoch [20/ 50], Accuracy: 0.5351, Loss: 30.6737, Val_accuracy: 0.5497, Val_loss: 26.4267\n",
            "Epoch [25/ 50], Accuracy: 0.4086, Loss: 0.7713, Val_accuracy: 0.3235, Val_loss: 0.6815\n",
            "Epoch [30/ 50], Accuracy: 0.3320, Loss: 0.6745, Val_accuracy: 0.3235, Val_loss: 0.6821\n",
            "Epoch [35/ 50], Accuracy: 0.3320, Loss: 0.6744, Val_accuracy: 0.3235, Val_loss: 0.6835\n",
            "Epoch [40/ 50], Accuracy: 0.3320, Loss: 0.6742, Val_accuracy: 0.3235, Val_loss: 0.6844\n",
            "Epoch [45/ 50], Accuracy: 0.3320, Loss: 0.6745, Val_accuracy: 0.3235, Val_loss: 0.6815\n",
            "Epoch [50/ 50], Accuracy: 0.3320, Loss: 0.6746, Val_accuracy: 0.3235, Val_loss: 0.6819\n",
            "Elapsed time: 156.62s\n"
          ]
        }
      ]
    },
    {
      "cell_type": "code",
      "source": [],
      "metadata": {
        "id": "AfLEklliYV-j"
      },
      "execution_count": null,
      "outputs": []
    }
  ]
}